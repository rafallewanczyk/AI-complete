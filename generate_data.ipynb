{
 "cells": [
  {
   "cell_type": "code",
   "execution_count": 14,
   "outputs": [
    {
     "name": "stdout",
     "output_type": "stream",
     "text": [
      "django 26740\n",
      "tensorflow 99\n",
      "flask 3236\n",
      "requests 6624\n",
      "keras 78\n",
      "pytorch 0\n",
      "numpy 9074\n"
     ]
    }
   ],
   "source": [
    "l = []\n",
    "with open('.\\\\data\\\\distinguished\\\\django_files.txt', 'r') as f:\n",
    "    l.append(f.readlines())\n",
    "    print('django', len(l[0]))\n",
    "\n",
    "with open('.\\\\data\\\\distinguished\\\\tensorflow_files.txt', 'r') as f:\n",
    "     l.append( f.readlines())\n",
    "     print('tensorflow', len(l[1]))\n",
    "\n",
    "with open('.\\\\data\\\\distinguished\\\\flask_files.txt', 'r') as f:\n",
    "     l.append( f.readlines())\n",
    "     print('flask', len(l[2]))\n",
    "\n",
    "with open('.\\\\data\\\\distinguished\\\\requests_files.txt', 'r') as f:\n",
    "     l.append( f.readlines())\n",
    "     print('requests', len(l[3]))\n",
    "\n",
    "with open('.\\\\data\\\\distinguished\\\\keras_files.txt', 'r') as f:\n",
    "     l.append(f.readlines())\n",
    "     print('keras', len(l[4]))\n",
    "\n",
    "with open('.\\\\data\\\\distinguished\\\\pytorch_files.txt', 'r') as f:\n",
    "     l.append(f.readlines())\n",
    "     print('pytorch', len(l[5]))\n",
    "\n",
    "with open('.\\\\data\\\\distinguished\\\\numpy_files.txt', 'r') as f:\n",
    "     l.append(f.readlines())\n",
    "     print('numpy', len(l[6]))"
   ],
   "metadata": {
    "collapsed": false,
    "pycharm": {
     "name": "#%%\n"
    }
   }
  },
  {
   "cell_type": "code",
   "execution_count": 15,
   "outputs": [
    {
     "name": "stdout",
     "output_type": "stream",
     "text": [
      "with repetitions 45851 without 44454\n"
     ]
    }
   ],
   "source": [
    "all = set()\n",
    "for i in range(7):\n",
    "    all.update(l[i])\n",
    "\n",
    "print('with repetitions', sum([len(x) for x in l]), 'without', len(all))"
   ],
   "metadata": {
    "collapsed": false,
    "pycharm": {
     "name": "#%%\n"
    }
   }
  },
  {
   "cell_type": "code",
   "execution_count": 16,
   "outputs": [],
   "source": [
    "with open('.\\\\data\\\\my_data.txt', 'w') as f:\n",
    "    for line in all:\n",
    "        f.write(line)"
   ],
   "metadata": {
    "collapsed": false,
    "pycharm": {
     "name": "#%%\n"
    }
   }
  },
  {
   "cell_type": "code",
   "execution_count": 34,
   "outputs": [],
   "source": [
    "import numpy as np\n",
    "np.random.seed(10)\n",
    "\n",
    "training = []\n",
    "evaluation = []\n",
    "for i in range(7):\n",
    "    training.append(np.random.choice(l[i], size=len(l[i])//5, replace=False).tolist())\n",
    "    evaluation .append(np.random.choice(list(set(l[i])^set(training[i])), size=len(l[i])//10, replace=False).tolist())\n",
    "\n",
    "train = []\n",
    "for t in training:\n",
    "    train += t\n",
    "eval = []\n",
    "for e in evaluation:\n",
    "    eval += e\n",
    "\n",
    "common = set(train).intersection(set(eval))\n",
    "eval = [x for x in eval if x not in common]\n",
    "\n"
   ],
   "metadata": {
    "collapsed": false,
    "pycharm": {
     "name": "#%%\n"
    }
   }
  },
  {
   "cell_type": "code",
   "execution_count": 36,
   "outputs": [],
   "source": [
    "with open('.\\\\data\\\\my_train.txt', 'w') as f:\n",
    "    for line in train:\n",
    "        f.write(line)\n",
    "\n",
    "with open('.\\\\data\\\\my_eval.txt', 'w') as f:\n",
    "    for line in eval:\n",
    "        f.write(line)"
   ],
   "metadata": {
    "collapsed": false,
    "pycharm": {
     "name": "#%%\n"
    }
   }
  },
  {
   "cell_type": "code",
   "execution_count": null,
   "outputs": [],
   "source": [],
   "metadata": {
    "collapsed": false,
    "pycharm": {
     "name": "#%%\n"
    }
   }
  }
 ],
 "metadata": {
  "kernelspec": {
   "display_name": "Python 3",
   "language": "python",
   "name": "python3"
  },
  "language_info": {
   "codemirror_mode": {
    "name": "ipython",
    "version": 2
   },
   "file_extension": ".py",
   "mimetype": "text/x-python",
   "name": "python",
   "nbconvert_exporter": "python",
   "pygments_lexer": "ipython2",
   "version": "2.7.6"
  }
 },
 "nbformat": 4,
 "nbformat_minor": 0
}