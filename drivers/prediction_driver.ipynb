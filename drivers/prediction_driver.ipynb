{
 "cells": [
  {
   "cell_type": "code",
   "execution_count": 14,
   "outputs": [],
   "source": [
    "import re\n",
    "import src.utils as utils\n",
    "import numpy as np\n",
    "import tensorflow as tf\n",
    "import src.benchmark as benchmark\n",
    "from tqdm.auto import tqdm"
   ],
   "metadata": {
    "collapsed": false,
    "pycharm": {
     "name": "#%%\n"
    }
   }
  },
  {
   "cell_type": "code",
   "execution_count": 15,
   "outputs": [],
   "source": [
    "# import src.generate_vocabulary as gv\n",
    "#\n",
    "# gv.generate_vocabulary(['.\\\\data\\\\data'], ['py'], 25000)"
   ],
   "metadata": {
    "collapsed": false,
    "pycharm": {
     "name": "#%%\n"
    }
   }
  },
  {
   "cell_type": "code",
   "execution_count": 16,
   "outputs": [],
   "source": [
    "# with open('.\\\\data\\\\python100k_train.txt') as f:\n",
    "#     data_dirs = f.readlines()\n",
    "#\n",
    "#\n",
    "# data_dirs = [re.sub(r'/', r'\\\\', ('.\\\\data\\\\'+d)[:-1]) for d in data_dirs]\n",
    "# data_dirs = np.random.choice(data_dirs, size=50000, replace=False)\n",
    "#\n",
    "# tokenized_files = utils.tokenize_data(data_dirs)"
   ],
   "metadata": {
    "collapsed": false,
    "pycharm": {
     "name": "#%%\n"
    }
   }
  },
  {
   "cell_type": "code",
   "execution_count": 17,
   "outputs": [
    {
     "name": "stdout",
     "output_type": "stream",
     "text": [
      "Model: \"sequential_2\"\n",
      "_________________________________________________________________\n",
      "Layer (type)                 Output Shape              Param #   \n",
      "=================================================================\n",
      "embedding_2 (Embedding)      (1, None, 32)             640032    \n",
      "_________________________________________________________________\n",
      "conv1d_2 (Conv1D)            (1, None, 32)             1056      \n",
      "_________________________________________________________________\n",
      "gru_2 (GRU)                  (1, None, 512)            838656    \n",
      "_________________________________________________________________\n",
      "dense_2 (Dense)              (1, None, 20001)          10260513  \n",
      "=================================================================\n",
      "Total params: 11,740,257\n",
      "Trainable params: 11,740,257\n",
      "Non-trainable params: 0\n",
      "_________________________________________________________________\n",
      "None\n"
     ]
    }
   ],
   "source": [
    "physical_devices = tf.config.list_physical_devices('GPU')\n",
    "tf.config.experimental.set_memory_growth(physical_devices[0], enable=True)\n",
    "from src.model import Model\n",
    "\n",
    "vocab_size = 20001\n",
    "embedding_dim = 32\n",
    "rnn_units = 512\n",
    "batch_size = 128\n",
    "win_size = 10\n",
    "model = Model(vocab_size, embedding_dim, rnn_units, batch_size, win_size, '..\\\\checkpoints\\\\GRU1\\\\model.h5')\n",
    "model.prepare_predictions('..\\\\vocabulary.voc', '..\\\\checkpoints\\\\GRU1\\\\model.h5')\n",
    "# print(model.get_prediction('', 100))"
   ],
   "metadata": {
    "collapsed": false,
    "pycharm": {
     "name": "#%%\n"
    }
   }
  },
  {
   "cell_type": "code",
   "execution_count": 24,
   "outputs": [],
   "source": [
    "with open('..\\\\data\\\\my_eval.txt') as f:\n",
    "    data_dirs = f.readlines()\n",
    "\n",
    "np.random.seed(43)\n",
    "data_dirs = [re.sub(r'/', r'\\\\', ('..\\\\data\\\\'+d)[:-1]) for d in data_dirs]\n",
    "# data_dirs = np.random.choice(data_dirs, size=9, replace=False)\n",
    "\n",
    "proper_predictions, all_predictions = 0,0"
   ],
   "metadata": {
    "collapsed": false,
    "pycharm": {
     "name": "#%%\n"
    }
   }
  },
  {
   "cell_type": "code",
   "execution_count": null,
   "outputs": [
    {
     "data": {
      "text/plain": "HBox(children=(HTML(value=''), FloatProgress(value=0.0, max=4485.0), HTML(value='')))",
      "application/vnd.jupyter.widget-view+json": {
       "version_major": 2,
       "version_minor": 0,
       "model_id": "e4442081152d4aebbe385c0e4cebe045"
      }
     },
     "metadata": {},
     "output_type": "display_data"
    }
   ],
   "source": [
    "progress = tqdm(data_dirs, position=0)\n",
    "\n",
    "for file in progress:\n",
    "    result = benchmark.single_benchmark(model, file, html=False)\n",
    "    proper_predictions += result[0]\n",
    "    all_predictions += result[1]\n",
    "\n",
    "    if all_predictions != 0:\n",
    "        progress.set_postfix({'accuracy' : proper_predictions/all_predictions})\n",
    "print(f'total accuracy: {proper_predictions/all_predictions}')\n",
    "\n",
    "\n",
    "\n"
   ],
   "metadata": {
    "collapsed": false,
    "pycharm": {
     "name": "#%%\n",
     "is_executing": true
    }
   }
  },
  {
   "cell_type": "code",
   "execution_count": 19,
   "outputs": [],
   "source": [],
   "metadata": {
    "collapsed": false,
    "pycharm": {
     "name": "#%%\n"
    }
   }
  }
 ],
 "metadata": {
  "kernelspec": {
   "display_name": "Python 3",
   "language": "python",
   "name": "python3"
  },
  "language_info": {
   "codemirror_mode": {
    "name": "ipython",
    "version": 2
   },
   "file_extension": ".py",
   "mimetype": "text/x-python",
   "name": "python",
   "nbconvert_exporter": "python",
   "pygments_lexer": "ipython2",
   "version": "2.7.6"
  }
 },
 "nbformat": 4,
 "nbformat_minor": 0
}