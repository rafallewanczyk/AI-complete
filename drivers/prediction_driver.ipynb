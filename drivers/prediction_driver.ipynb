{
 "cells": [
  {
   "cell_type": "code",
   "execution_count": 5,
   "outputs": [],
   "source": [
    "import re\n",
    "import src.utils as utils\n",
    "import numpy as np\n",
    "import tensorflow as tf\n",
    "import src.benchmark as benchmark\n",
    "from tqdm.auto import tqdm"
   ],
   "metadata": {
    "collapsed": false,
    "pycharm": {
     "name": "#%%\n"
    }
   }
  },
  {
   "cell_type": "code",
   "execution_count": 6,
   "outputs": [],
   "source": [
    "# import src.generate_vocabulary as gv\n",
    "#\n",
    "# gv.generate_vocabulary(['.\\\\data\\\\data'], ['py'], 25000)"
   ],
   "metadata": {
    "collapsed": false,
    "pycharm": {
     "name": "#%%\n"
    }
   }
  },
  {
   "cell_type": "code",
   "execution_count": 7,
   "outputs": [],
   "source": [
    "# with open('.\\\\data\\\\python100k_train.txt') as f:\n",
    "#     data_dirs = f.readlines()\n",
    "#\n",
    "#\n",
    "# data_dirs = [re.sub(r'/', r'\\\\', ('.\\\\data\\\\'+d)[:-1]) for d in data_dirs]\n",
    "# data_dirs = np.random.choice(data_dirs, size=50000, replace=False)\n",
    "#\n",
    "# tokenized_files = utils.tokenize_data(data_dirs)"
   ],
   "metadata": {
    "collapsed": false,
    "pycharm": {
     "name": "#%%\n"
    }
   }
  },
  {
   "cell_type": "code",
   "execution_count": 8,
   "outputs": [
    {
     "name": "stdout",
     "output_type": "stream",
     "text": [
      "Model: \"sequential\"\n",
      "_________________________________________________________________\n",
      "Layer (type)                 Output Shape              Param #   \n",
      "=================================================================\n",
      "embedding (Embedding)        (1, None, 32)             640032    \n",
      "_________________________________________________________________\n",
      "lstm (LSTM)                  (1, None, 128)            82432     \n",
      "_________________________________________________________________\n",
      "dense (Dense)                (1, None, 20001)          2580129   \n",
      "=================================================================\n",
      "Total params: 3,302,593\n",
      "Trainable params: 3,302,593\n",
      "Non-trainable params: 0\n",
      "_________________________________________________________________\n",
      "None\n"
     ]
    }
   ],
   "source": [
    "physical_devices = tf.config.list_physical_devices('GPU')\n",
    "tf.config.experimental.set_memory_growth(physical_devices[0], enable=True)\n",
    "from src.model import Model\n",
    "\n",
    "vocab_size = 20001 #CONST\n",
    "embedding_dim = 32 #CONST\n",
    "rnn_units = 128\n",
    "batch_size = 128 #CONST\n",
    "win_size = 5\n",
    "model = Model(vocab_size, embedding_dim, rnn_units, batch_size, win_size, '..\\\\checkpoints\\\\2\\\\model.h5')\n",
    "model.prepare_predictions('.\\\\vocabulary.voc', '..\\\\checkpoints\\\\2\\\\model.h5')\n",
    "# print(model.get_prediction('', 100))"
   ],
   "metadata": {
    "collapsed": false,
    "pycharm": {
     "name": "#%%\n"
    }
   }
  },
  {
   "cell_type": "code",
   "execution_count": 9,
   "outputs": [],
   "source": [
    "with open('..\\\\data\\\\my_eval.txt') as f:\n",
    "    data_dirs = f.readlines()\n",
    "\n",
    "np.random.seed(43)\n",
    "data_dirs = [re.sub(r'/', r'\\\\', ('..\\\\data\\\\'+d)[:-1]) for d in data_dirs]\n",
    "data_dirs = np.random.choice(data_dirs, size=9, replace=False)\n",
    "\n",
    "proper_predictions, all_predictions = 0,0"
   ],
   "metadata": {
    "collapsed": false,
    "pycharm": {
     "name": "#%%\n"
    }
   }
  },
  {
   "cell_type": "code",
   "execution_count": 10,
   "outputs": [
    {
     "data": {
      "text/plain": "HBox(children=(HTML(value=''), FloatProgress(value=0.0, max=9.0), HTML(value='')))",
      "application/vnd.jupyter.widget-view+json": {
       "version_major": 2,
       "version_minor": 0,
       "model_id": "0f0f28b65b1d49c8a6b388750061e609"
      }
     },
     "metadata": {},
     "output_type": "display_data"
    },
    {
     "name": "stdout",
     "output_type": "stream",
     "text": [
      "\n",
      "total accuracy: 0.4636418269230769\n"
     ]
    }
   ],
   "source": [
    "progress = tqdm(data_dirs, position=0)\n",
    "\n",
    "for file in progress:\n",
    "    result = benchmark.single_benchmark(model, file, html=False)\n",
    "    proper_predictions += result[0]\n",
    "    all_predictions += result[1]\n",
    "\n",
    "    if all_predictions != 0:\n",
    "        progress.set_postfix({'accuracy' : proper_predictions/all_predictions})\n",
    "print(f'total accuracy: {proper_predictions/all_predictions}')\n",
    "\n",
    "\n",
    "\n"
   ],
   "metadata": {
    "collapsed": false,
    "pycharm": {
     "name": "#%%\n"
    }
   }
  },
  {
   "cell_type": "code",
   "execution_count": 10,
   "outputs": [],
   "source": [],
   "metadata": {
    "collapsed": false,
    "pycharm": {
     "name": "#%%\n"
    }
   }
  }
 ],
 "metadata": {
  "kernelspec": {
   "display_name": "Python 3",
   "language": "python",
   "name": "python3"
  },
  "language_info": {
   "codemirror_mode": {
    "name": "ipython",
    "version": 2
   },
   "file_extension": ".py",
   "mimetype": "text/x-python",
   "name": "python",
   "nbconvert_exporter": "python",
   "pygments_lexer": "ipython2",
   "version": "2.7.6"
  }
 },
 "nbformat": 4,
 "nbformat_minor": 0
}