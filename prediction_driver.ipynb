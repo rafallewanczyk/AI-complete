{
 "cells": [
  {
   "cell_type": "code",
   "execution_count": 7,
   "outputs": [],
   "source": [
    "import re\n",
    "import src.utils as utils\n",
    "import numpy as np\n",
    "import tensorflow as tf\n",
    "import src.benchmark as benchmark\n",
    "from tqdm.auto import tqdm"
   ],
   "metadata": {
    "collapsed": false,
    "pycharm": {
     "name": "#%%\n"
    }
   }
  },
  {
   "cell_type": "code",
   "execution_count": 8,
   "outputs": [],
   "source": [
    "# import src.generate_vocabulary as gv\n",
    "#\n",
    "# gv.generate_vocabulary(['.\\\\data\\\\data'], ['py'], 25000)"
   ],
   "metadata": {
    "collapsed": false,
    "pycharm": {
     "name": "#%%\n"
    }
   }
  },
  {
   "cell_type": "code",
   "execution_count": 9,
   "outputs": [],
   "source": [
    "# with open('.\\\\data\\\\python100k_train.txt') as f:\n",
    "#     data_dirs = f.readlines()\n",
    "#\n",
    "#\n",
    "# data_dirs = [re.sub(r'/', r'\\\\', ('.\\\\data\\\\'+d)[:-1]) for d in data_dirs]\n",
    "# data_dirs = np.random.choice(data_dirs, size=50000, replace=False)\n",
    "#\n",
    "# tokenized_files = utils.tokenize_data(data_dirs)"
   ],
   "metadata": {
    "collapsed": false,
    "pycharm": {
     "name": "#%%\n"
    }
   }
  },
  {
   "cell_type": "code",
   "execution_count": 10,
   "outputs": [
    {
     "name": "stdout",
     "output_type": "stream",
     "text": [
      "Model: \"sequential_1\"\n",
      "_________________________________________________________________\n",
      "Layer (type)                 Output Shape              Param #   \n",
      "=================================================================\n",
      "embedding_1 (Embedding)      (1, None, 32)             640032    \n",
      "_________________________________________________________________\n",
      "conv1d_1 (Conv1D)            (1, None, 32)             1056      \n",
      "_________________________________________________________________\n",
      "gru_1 (GRU)                  (1, None, 512)            838656    \n",
      "_________________________________________________________________\n",
      "dense_1 (Dense)              (1, None, 20001)          10260513  \n",
      "=================================================================\n",
      "Total params: 11,740,257\n",
      "Trainable params: 11,740,257\n",
      "Non-trainable params: 0\n",
      "_________________________________________________________________\n",
      "None\n"
     ]
    }
   ],
   "source": [
    "physical_devices = tf.config.list_physical_devices('GPU')\n",
    "tf.config.experimental.set_memory_growth(physical_devices[0], enable=True)\n",
    "from src.model import Model\n",
    "\n",
    "vocab_size = 20001\n",
    "embedding_dim = 32\n",
    "rnn_units = 512\n",
    "batch_size = 128\n",
    "win_size = 10\n",
    "model = Model(vocab_size, embedding_dim, rnn_units, batch_size, win_size, '.\\\\checkpoints\\\\model.h5')\n",
    "model.prepare_predictions('.\\\\vocabulary', '.\\\\checkpoints\\\\model.h5')\n",
    "# print(model.get_prediction('', 100))"
   ],
   "metadata": {
    "collapsed": false,
    "pycharm": {
     "name": "#%%\n"
    }
   }
  },
  {
   "cell_type": "code",
   "execution_count": 11,
   "outputs": [],
   "source": [
    "with open('.\\\\data\\\\my_eval.txt') as f:\n",
    "    data_dirs = f.readlines()\n",
    "\n",
    "np.random.seed(43)\n",
    "data_dirs = [re.sub(r'/', r'\\\\', ('.\\\\data\\\\'+d)[:-1]) for d in data_dirs]\n",
    "data_dirs = np.random.choice(data_dirs, size=9, replace=False)\n",
    "\n",
    "proper_predictions, all_predictions = 0,0"
   ],
   "metadata": {
    "collapsed": false,
    "pycharm": {
     "name": "#%%\n"
    }
   }
  },
  {
   "cell_type": "code",
   "execution_count": 12,
   "outputs": [
    {
     "data": {
      "text/plain": "HBox(children=(HTML(value=''), FloatProgress(value=0.0, max=9.0), HTML(value='')))",
      "application/vnd.jupyter.widget-view+json": {
       "version_major": 2,
       "version_minor": 0,
       "model_id": "b7d56025a04540deb6442b744eb252bc"
      }
     },
     "metadata": {},
     "output_type": "display_data"
    },
    {
     "name": "stdout",
     "output_type": "stream",
     "text": [
      "\n"
     ]
    }
   ],
   "source": [
    "progress = tqdm(data_dirs, position=0)\n",
    "\n",
    "for file in progress:\n",
    "    result = benchmark.single_benchmark(model, file, html=True)\n",
    "    proper_predictions += result[0]\n",
    "    all_predictions += result[1]\n",
    "\n",
    "    if all_predictions != 0:\n",
    "        progress.set_postfix({'accuracy' : proper_predictions/all_predictions})\n",
    "\n",
    "\n",
    "\n"
   ],
   "metadata": {
    "collapsed": false,
    "pycharm": {
     "name": "#%%\n"
    }
   }
  },
  {
   "cell_type": "code",
   "execution_count": 12,
   "outputs": [],
   "source": [],
   "metadata": {
    "collapsed": false,
    "pycharm": {
     "name": "#%%\n"
    }
   }
  }
 ],
 "metadata": {
  "kernelspec": {
   "display_name": "Python 3",
   "language": "python",
   "name": "python3"
  },
  "language_info": {
   "codemirror_mode": {
    "name": "ipython",
    "version": 2
   },
   "file_extension": ".py",
   "mimetype": "text/x-python",
   "name": "python",
   "nbconvert_exporter": "python",
   "pygments_lexer": "ipython2",
   "version": "2.7.6"
  }
 },
 "nbformat": 4,
 "nbformat_minor": 0
}