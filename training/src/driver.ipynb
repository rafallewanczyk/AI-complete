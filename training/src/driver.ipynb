{
 "metadata": {
  "language_info": {
   "codemirror_mode": {
    "name": "ipython",
    "version": 3
   },
   "file_extension": ".py",
   "mimetype": "text/x-python",
   "name": "python",
   "nbconvert_exporter": "python",
   "pygments_lexer": "ipython3",
   "version": "3.7.9-final"
  },
  "orig_nbformat": 2,
  "kernelspec": {
   "name": "mlcode",
   "language": "python",
   "display_name": "mlcode"
  }
 },
 "nbformat": 4,
 "nbformat_minor": 2,
 "cells": [
  {
   "cell_type": "code",
   "execution_count": 11,
   "outputs": [],
   "source": [
    "from src.LSTMmodel import LSTMmodel\n",
    "from src.tokentest import *\n",
    "\n",
    "path = 'C:\\\\Users\\\\Lewanczyk\\\\Desktop\\\\ai-complete\\\\training\\\\data\\\\pysource'\n",
    "number_of_files = 700"
   ],
   "metadata": {
    "collapsed": false,
    "pycharm": {
     "name": "#%%\n"
    }
   }
  },
  {
   "cell_type": "code",
   "execution_count": 12,
   "outputs": [
    {
     "name": "stderr",
     "output_type": "stream",
     "text": [
      "100%|██████████| 699/699 [00:16<00:00, 42.46it/s]\n"
     ]
    },
    {
     "name": "stdout",
     "output_type": "stream",
     "text": [
      "10001\n"
     ]
    }
   ],
   "source": [
    "vocab, rev_vocab = generate_vocabs(range(1, number_of_files), path, 10000)\n",
    "\n",
    "print(len(vocab))"
   ],
   "metadata": {
    "collapsed": false,
    "pycharm": {
     "name": "#%%\n"
    }
   }
  },
  {
   "cell_type": "code",
   "execution_count": 13,
   "outputs": [
    {
     "data": {
      "text/plain": "True"
     },
     "execution_count": 13,
     "metadata": {},
     "output_type": "execute_result"
    }
   ],
   "source": [
    "'numpy' in vocab"
   ],
   "metadata": {
    "collapsed": false,
    "pycharm": {
     "name": "#%%\n"
    }
   }
  },
  {
   "cell_type": "code",
   "execution_count": 14,
   "outputs": [],
   "source": [
    "model = LSTMmodel(vocab, rev_vocab, window_size=10)"
   ],
   "metadata": {
    "collapsed": false,
    "pycharm": {
     "name": "#%%\n"
    }
   }
  },
  {
   "cell_type": "code",
   "execution_count": null,
   "outputs": [
    {
     "name": "stderr",
     "output_type": "stream",
     "text": [
      "12298it [02:30, 80.47it/s]"
     ]
    }
   ],
   "source": [
    "# input for files : [parse_file(file_index, path) for file_index in range(1, 100)]\n",
    "# for x in model.generate_batch(\n",
    "#         [['file2', [1, 2, 3, 4, 5, 6, 7, 8, 9]], ['file2', [10, 20, 30, 40, 50, 60, 70, 80, 90]]]):\n",
    "#     print('executed')\n",
    "# print('test')\n",
    "\n",
    "model.train([parse_file(file_index, path) for file_index in range(1, number_of_files)], 3, 32)"
   ],
   "metadata": {
    "collapsed": false,
    "pycharm": {
     "name": "#%%\n",
     "is_executing": true
    }
   }
  },
  {
   "cell_type": "code",
   "execution_count": 10,
   "outputs": [
    {
     "name": "stdout",
     "output_type": "stream",
     "text": [
      "__future__ import absolute_import \n",
      " from __future__ import division \n",
      " from __future__ import print_function \n",
      " \n",
      " import abc \n",
      " \n",
      " import six \n",
      " \n",
      " from tensorflow . python . keras import __version__ as keras_version \n",
      " \n",
      " save_attributes_to_hdf5_group ( \n",
      " f , 'layer_names' , [ layer . name . encode ( 'utf8' ) ) \n",
      "  save_attributes_to_hdf5_group ( g , 'weight_names' , weight_names ) \n",
      " for name , val in zip ( weight_names , weight_values ) : \n",
      "              name = str ( w . name ) \n",
      "  else : \n",
      "          name = 'param_' + str ( i ) \n",
      "  weight_names . append ( name . encode ( 'utf8' ) ) \n",
      "  save_attributes_to_hdf5_group ( g , 'weight_names' , weight_names ) \n",
      " for name , val in zip ( weight_names , weight_values ) : \n",
      "              name = str ( w . name ) \n",
      "  else : \n",
      "          name = 'param_' + str ( i ) \n",
      "  weight_names . append ( name . encode ( 'utf8' ) ) \n",
      "  save_attributes_to_hdf5_group ( g , 'weight_names' , weight_names ) \n",
      " for name , val in zip ( weight_names , weight_values ) : \n",
      "              name = str\n"
     ]
    }
   ],
   "source": [
    "print(f\"{model.predict(['import', 'numpy', 'as', 'np', 'from'], 200)}\")\n"
   ],
   "metadata": {
    "collapsed": false,
    "pycharm": {
     "name": "#%%\n"
    }
   }
  }
 ]
}