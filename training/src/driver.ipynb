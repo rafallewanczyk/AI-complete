{
 "metadata": {
  "language_info": {
   "codemirror_mode": {
    "name": "ipython",
    "version": 3
   },
   "file_extension": ".py",
   "mimetype": "text/x-python",
   "name": "python",
   "nbconvert_exporter": "python",
   "pygments_lexer": "ipython3",
   "version": "3.7.9-final"
  },
  "orig_nbformat": 2,
  "kernelspec": {
   "name": "mlcode",
   "language": "python",
   "display_name": "mlcode"
  }
 },
 "nbformat": 4,
 "nbformat_minor": 2,
 "cells": [
  {
   "cell_type": "code",
   "execution_count": 1,
   "outputs": [],
   "source": [
    "from src.LSTMmodel import LSTMmodel\n",
    "from src.tokentest import *\n",
    "\n",
    "path = 'C:\\\\Users\\\\Lewanczyk\\\\Desktop\\\\ai-complete\\\\training\\\\data\\\\pysource'\n",
    "number_of_files = 70"
   ],
   "metadata": {
    "collapsed": false,
    "pycharm": {
     "name": "#%%\n"
    }
   }
  },
  {
   "cell_type": "code",
   "execution_count": 2,
   "outputs": [
    {
     "name": "stderr",
     "output_type": "stream",
     "text": [
      "100%|██████████| 69/69 [00:01<00:00, 58.21it/s]\n"
     ]
    },
    {
     "name": "stdout",
     "output_type": "stream",
     "text": [
      "101\n"
     ]
    }
   ],
   "source": [
    "vocab, rev_vocab = generate_vocabs(range(1, number_of_files), path, 100)\n",
    "\n",
    "print(len(vocab))"
   ],
   "metadata": {
    "collapsed": false,
    "pycharm": {
     "name": "#%%\n"
    }
   }
  },
  {
   "cell_type": "code",
   "execution_count": 3,
   "outputs": [
    {
     "data": {
      "text/plain": "False"
     },
     "execution_count": 3,
     "metadata": {},
     "output_type": "execute_result"
    }
   ],
   "source": [
    "'numpy' in vocab"
   ],
   "metadata": {
    "collapsed": false,
    "pycharm": {
     "name": "#%%\n"
    }
   }
  },
  {
   "cell_type": "code",
   "execution_count": 4,
   "outputs": [],
   "source": [
    "model = LSTMmodel(vocab, rev_vocab, window_size=10)"
   ],
   "metadata": {
    "collapsed": false,
    "pycharm": {
     "name": "#%%\n"
    }
   }
  },
  {
   "cell_type": "code",
   "execution_count": null,
   "outputs": [
    {
     "name": "stderr",
     "output_type": "stream",
     "text": [
      " 56%|█████▌    | 6537/11730 [00:41<00:32, 160.20it/s, loss:1.0583226162395492, acc:0.6858707424010387] "
     ]
    }
   ],
   "source": [
    "# input for files : [parse_file(file_index, path) for file_index in range(1, 100)]\n",
    "# for x in model.generate_batch(\n",
    "#         [['file2', [1, 2, 3, 4, 5, 6, 7, 8, 9]], ['file2', [10, 20, 30, 40, 50, 60, 70, 80, 90]]]):\n",
    "#     print('executed')\n",
    "# print('test')\n",
    "\n",
    "model.train([parse_file(file_index, path) for file_index in range(1, number_of_files)], 1, 32)"
   ],
   "metadata": {
    "collapsed": false,
    "pycharm": {
     "name": "#%%\n",
     "is_executing": true
    }
   }
  },
  {
   "cell_type": "code",
   "execution_count": null,
   "outputs": [],
   "source": [
    "print(f\"{model.predict(['import', 'numpy', 'as', 'np', 'from'], 200)}\")\n"
   ],
   "metadata": {
    "collapsed": false,
    "pycharm": {
     "name": "#%%\n",
     "is_executing": true
    }
   }
  }
 ]
}