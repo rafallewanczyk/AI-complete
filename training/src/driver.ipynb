{
 "metadata": {
  "language_info": {
   "codemirror_mode": {
    "name": "ipython",
    "version": 3
   },
   "file_extension": ".py",
   "mimetype": "text/x-python",
   "name": "python",
   "nbconvert_exporter": "python",
   "pygments_lexer": "ipython3",
   "version": "3.7.9-final"
  },
  "orig_nbformat": 2,
  "kernelspec": {
   "name": "pythongpu",
   "language": "python",
   "display_name": "pythongpu"
  },
  "pycharm": {
   "stem_cell": {
    "cell_type": "raw",
    "source": [],
    "metadata": {
     "collapsed": false
    }
   }
  }
 },
 "nbformat": 4,
 "nbformat_minor": 2,
 "cells": [
  {
   "cell_type": "code",
   "execution_count": 1,
   "metadata": {
    "pycharm": {
     "is_executing": false
    }
   },
   "outputs": [],
   "source": [
    "from src.LSTMmodel import LSTMmodel\n",
    "from src.tokentest import *\n",
    "\n",
    "path = 'C:\\\\Users\\\\rafal\\\\OneDrive\\\\Pulpit\\\\ai-complete\\\\training\\\\data\\\\pysource'"
   ]
  },
  {
   "cell_type": "code",
   "execution_count": 2,
   "metadata": {
    "pycharm": {
     "name": "#%%\n",
     "is_executing": false
    }
   },
   "outputs": [
    {
     "name": "stderr",
     "text": [
      "100%|██████████| 2/2 [00:00<00:00, 30.32it/s]\n"
     ],
     "output_type": "stream"
    }
   ],
   "source": [
    "vocab, rev_vocab = generate_vocabs(range(1, 3), path, 2000)"
   ]
  },
  {
   "cell_type": "code",
   "execution_count": 3,
   "outputs": [],
   "source": [
    "model = LSTMmodel(vocab, rev_vocab, window_size=5)"
   ],
   "metadata": {
    "collapsed": false,
    "pycharm": {
     "name": "#%%\n",
     "is_executing": false
    }
   }
  },
  {
   "cell_type": "code",
   "execution_count": 9,
   "outputs": [
    {
     "data": {
      "text/plain": "5"
     },
     "metadata": {},
     "output_type": "execute_result",
     "execution_count": 9
    }
   ],
   "source": [
    "#input for files : [parse_file(file_index, path) for file_index in range(1, 100)]\n",
    "model.generate_batch([['file2', [1,2,3,4,5,6,7,8,9]],['file2', [10,20,30,40,50,60,70,80,90]]])\n"
   ],
   "metadata": {
    "collapsed": false,
    "pycharm": {
     "name": "#%%\n",
     "is_executing": false
    }
   }
  }
 ]
}